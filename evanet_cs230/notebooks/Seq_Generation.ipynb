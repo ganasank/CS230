{
  "nbformat": 4,
  "nbformat_minor": 0,
  "metadata": {
    "colab": {
      "name": "Seq_Generation.ipynb",
      "provenance": [],
      "collapsed_sections": []
    },
    "kernelspec": {
      "name": "python3",
      "display_name": "Python 3"
    },
    "accelerator": "GPU"
  },
  "cells": [
    {
      "cell_type": "code",
      "metadata": {
        "id": "EtwneuIBtAbo",
        "colab_type": "code",
        "outputId": "a3abadb6-8d25-49ea-c659-518606843c1e",
        "colab": {
          "base_uri": "https://localhost:8080/",
          "height": 52
        }
      },
      "source": [
        "%cd \"drive/Shared drives/CS230/\""
      ],
      "execution_count": 0,
      "outputs": [
        {
          "output_type": "stream",
          "text": [
            "[Errno 2] No such file or directory: '/content/drive/Shared drives/CS230/'\n",
            "/content\n"
          ],
          "name": "stdout"
        }
      ]
    },
    {
      "cell_type": "code",
      "metadata": {
        "id": "dAt8DRh2tJqB",
        "colab_type": "code",
        "outputId": "d1cdd958-e78a-403f-f6ca-e7f99cc84fcf",
        "colab": {
          "base_uri": "https://localhost:8080/",
          "height": 34
        }
      },
      "source": [
        "%cd google_action_recognition_trial"
      ],
      "execution_count": 0,
      "outputs": [
        {
          "output_type": "stream",
          "text": [
            "/content/drive/Shared drives/CS230/google_action_recognition_trial\n"
          ],
          "name": "stdout"
        }
      ]
    },
    {
      "cell_type": "code",
      "metadata": {
        "id": "7JqSDO7XtMkP",
        "colab_type": "code",
        "outputId": "15af0b47-9d63-45ec-ebfa-5a426ab70d2c",
        "colab": {
          "base_uri": "https://localhost:8080/",
          "height": 119
        }
      },
      "source": [
        "!git clone https://github.com/piergiaj/evanet-iccv19.git"
      ],
      "execution_count": 0,
      "outputs": [
        {
          "output_type": "stream",
          "text": [
            "Cloning into 'evanet-iccv19'...\n",
            "remote: Enumerating objects: 24, done.\u001b[K\n",
            "remote: Counting objects: 100% (24/24), done.\u001b[K\n",
            "remote: Compressing objects: 100% (19/19), done.\u001b[K\n",
            "remote: Total 24 (delta 8), reused 21 (delta 5), pack-reused 0\u001b[K\n",
            "Unpacking objects: 100% (24/24), done.\n"
          ],
          "name": "stdout"
        }
      ]
    },
    {
      "cell_type": "code",
      "metadata": {
        "id": "yBgqLBXTZesm",
        "colab_type": "code",
        "outputId": "08a3ebd2-3d46-47bb-b7a6-c3428dcecd95",
        "colab": {
          "base_uri": "https://localhost:8080/",
          "height": 119
        }
      },
      "source": [
        "#generating all npy files list\n",
        "import glob\n",
        "filename=[]\n",
        "labels=[]\n",
        "filename=filename+(glob.glob('./../tennis_action_recognition-master/google_action_recognition/evanet/data/backhandnpy/*.npy'))\n",
        "len1=len(filename)\n",
        "labels=labels+(['backhand']*len1)\n",
        "print(len(filename),len1)\n",
        "filename=filename+(glob.glob('./../tennis_action_recognition-master/google_action_recognition/evanet/data/bvolleynpy/*.npy'))\n",
        "len2=len(filename)-len1\n",
        "labels=labels+(['bvolley']*len2)\n",
        "print(len(filename),len2)\n",
        "filename=filename+(glob.glob('./../tennis_action_recognition-master/google_action_recognition/evanet/data/forehandnpy/*.npy'))\n",
        "len3=len(filename)-len2-len1\n",
        "labels=labels+(['forehand']*len3)\n",
        "print(len(filename),len3)\n",
        "filename=filename+(glob.glob('./../tennis_action_recognition-master/google_action_recognition/evanet/data/fvolleynpy/*.npy'))\n",
        "len4=len(filename)-len3-len2-len1\n",
        "labels=labels+(['fvolley']*len4)\n",
        "print(len(filename),len4)\n",
        "filename=filename+(glob.glob('./../tennis_action_recognition-master/google_action_recognition/evanet/data/servicenpy/*.npy'))\n",
        "len5=len(filename)-len4-len3-len2-len1\n",
        "print(len(filename),len5)\n",
        "labels=labels+(['service']*len5)\n",
        "filename=filename+(glob.glob('./../tennis_action_recognition-master/google_action_recognition/evanet/data/smashnpy/*.npy'))\n",
        "len6=len(filename)-len5-len4-len3-len2-len1\n",
        "print(len(filename),len6)\n",
        "labels=labels+(['smash']*len6)"
      ],
      "execution_count": 0,
      "outputs": [
        {
          "output_type": "stream",
          "text": [
            "495 495\n",
            "660 165\n",
            "1155 495\n",
            "1320 165\n",
            "1815 495\n",
            "1980 165\n"
          ],
          "name": "stdout"
        }
      ]
    },
    {
      "cell_type": "code",
      "metadata": {
        "id": "pth5dwAPmqRX",
        "colab_type": "code",
        "colab": {}
      },
      "source": [
        "#write filenames to a file\n",
        "with open('filenames.txt', 'w') as f:\n",
        "    for item in filename:\n",
        "        f.write(\"%s\\n\" % item)"
      ],
      "execution_count": 0,
      "outputs": []
    },
    {
      "cell_type": "code",
      "metadata": {
        "id": "ZFdOn0PgoPNE",
        "colab_type": "code",
        "colab": {}
      },
      "source": [
        "#write label names to a file - not used\n",
        "with open('labels_new.txt', 'w') as f:\n",
        "    for item in labels:\n",
        "        f.write(\"%s\\n\" % item)"
      ],
      "execution_count": 0,
      "outputs": []
    },
    {
      "cell_type": "code",
      "metadata": {
        "colab_type": "code",
        "id": "9iX9WbuFXfFk",
        "colab": {}
      },
      "source": [
        "#how to read filenames\n",
        "f=open('filenames.txt','r')\n",
        "videos=f.read().split('\\n')"
      ],
      "execution_count": 0,
      "outputs": []
    },
    {
      "cell_type": "code",
      "metadata": {
        "colab_type": "code",
        "id": "Yb9fYEwWXeyj",
        "colab": {}
      },
      "source": [
        "#how to read labelnames\n",
        "f=open('labels_new.txt','r')\n",
        "sample=f.read().split('\\n')"
      ],
      "execution_count": 0,
      "outputs": []
    },
    {
      "cell_type": "code",
      "metadata": {
        "id": "CnDVpxpESvT5",
        "colab_type": "code",
        "colab": {}
      },
      "source": [
        "#run python script for generating sequences of files in filenames\n",
        "!python -m evanet.run_evanet --checkpoints=rgb1.ckpt,rgb2.ckpt"
      ],
      "execution_count": 0,
      "outputs": []
    }
  ]
}