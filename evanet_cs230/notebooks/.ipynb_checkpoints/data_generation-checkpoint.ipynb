{
 "cells": [
  {
   "cell_type": "code",
   "execution_count": 0,
   "metadata": {
    "colab": {
     "base_uri": "https://localhost:8080/",
     "height": 52
    },
    "colab_type": "code",
    "id": "EtwneuIBtAbo",
    "outputId": "a3abadb6-8d25-49ea-c659-518606843c1e"
   },
   "outputs": [
    {
     "name": "stdout",
     "output_type": "stream",
     "text": [
      "[Errno 2] No such file or directory: '/content/drive/Shared drives/CS230/'\n",
      "/content\n"
     ]
    }
   ],
   "source": [
    "%cd \"drive/Shared drives/CS230/\""
   ]
  },
  {
   "cell_type": "code",
   "execution_count": 0,
   "metadata": {
    "colab": {
     "base_uri": "https://localhost:8080/",
     "height": 34
    },
    "colab_type": "code",
    "id": "dAt8DRh2tJqB",
    "outputId": "d1cdd958-e78a-403f-f6ca-e7f99cc84fcf"
   },
   "outputs": [
    {
     "name": "stdout",
     "output_type": "stream",
     "text": [
      "/content/drive/Shared drives/CS230/google_action_recognition_trial\n"
     ]
    }
   ],
   "source": [
    "%cd google_action_recognition_trial"
   ]
  },
  {
   "cell_type": "code",
   "execution_count": 0,
   "metadata": {
    "colab": {
     "base_uri": "https://localhost:8080/",
     "height": 119
    },
    "colab_type": "code",
    "id": "yBgqLBXTZesm",
    "outputId": "08a3ebd2-3d46-47bb-b7a6-c3428dcecd95"
   },
   "outputs": [
    {
     "name": "stdout",
     "output_type": "stream",
     "text": [
      "495 495\n",
      "660 165\n",
      "1155 495\n",
      "1320 165\n",
      "1815 495\n",
      "1980 165\n"
     ]
    }
   ],
   "source": [
    "#generating all npy files list\n",
    "import glob\n",
    "filename=[]\n",
    "labels=[]\n",
    "filename=filename+(glob.glob('./../tennis_action_recognition-master/google_action_recognition/evanet/data/backhandnpy/*.npy'))\n",
    "len1=len(filename)\n",
    "labels=labels+(['backhand']*len1)\n",
    "print(len(filename),len1)\n",
    "filename=filename+(glob.glob('./../tennis_action_recognition-master/google_action_recognition/evanet/data/bvolleynpy/*.npy'))\n",
    "len2=len(filename)-len1\n",
    "labels=labels+(['bvolley']*len2)\n",
    "print(len(filename),len2)\n",
    "filename=filename+(glob.glob('./../tennis_action_recognition-master/google_action_recognition/evanet/data/forehandnpy/*.npy'))\n",
    "len3=len(filename)-len2-len1\n",
    "labels=labels+(['forehand']*len3)\n",
    "print(len(filename),len3)\n",
    "filename=filename+(glob.glob('./../tennis_action_recognition-master/google_action_recognition/evanet/data/fvolleynpy/*.npy'))\n",
    "len4=len(filename)-len3-len2-len1\n",
    "labels=labels+(['fvolley']*len4)\n",
    "print(len(filename),len4)\n",
    "filename=filename+(glob.glob('./../tennis_action_recognition-master/google_action_recognition/evanet/data/servicenpy/*.npy'))\n",
    "len5=len(filename)-len4-len3-len2-len1\n",
    "print(len(filename),len5)\n",
    "labels=labels+(['service']*len5)\n",
    "filename=filename+(glob.glob('./../tennis_action_recognition-master/google_action_recognition/evanet/data/smashnpy/*.npy'))\n",
    "len6=len(filename)-len5-len4-len3-len2-len1\n",
    "print(len(filename),len6)\n",
    "labels=labels+(['smash']*len6)"
   ]
  },
  {
   "cell_type": "code",
   "execution_count": 0,
   "metadata": {
    "colab": {},
    "colab_type": "code",
    "id": "pth5dwAPmqRX"
   },
   "outputs": [],
   "source": [
    "#write filenames to a file\n",
    "with open('filenames.txt', 'w') as f:\n",
    "    for item in filename:\n",
    "        f.write(\"%s\\n\" % item)"
   ]
  },
  {
   "cell_type": "code",
   "execution_count": 0,
   "metadata": {
    "colab": {},
    "colab_type": "code",
    "id": "ZFdOn0PgoPNE"
   },
   "outputs": [],
   "source": [
    "#write label names to a file - not used\n",
    "with open('labels_new.txt', 'w') as f:\n",
    "    for item in labels:\n",
    "        f.write(\"%s\\n\" % item)"
   ]
  },
  {
   "cell_type": "code",
   "execution_count": 0,
   "metadata": {
    "colab": {},
    "colab_type": "code",
    "id": "9iX9WbuFXfFk"
   },
   "outputs": [],
   "source": [
    "#how to read filenames\n",
    "f=open('filenames.txt','r')\n",
    "videos=f.read().split('\\n')"
   ]
  },
  {
   "cell_type": "code",
   "execution_count": 0,
   "metadata": {
    "colab": {},
    "colab_type": "code",
    "id": "Yb9fYEwWXeyj"
   },
   "outputs": [],
   "source": [
    "#how to read labelnames\n",
    "f=open('labels_new.txt','r')\n",
    "sample=f.read().split('\\n')"
   ]
  },
  {
   "cell_type": "code",
   "execution_count": 0,
   "metadata": {
    "colab": {},
    "colab_type": "code",
    "id": "CnDVpxpESvT5"
   },
   "outputs": [],
   "source": [
    "#run python script for generating sequences of files in filenames\n",
    "!python -m evanet.run_evanet --checkpoints=rgb1.ckpt,rgb2.ckpt"
   ]
  }
 ],
 "metadata": {
  "accelerator": "GPU",
  "colab": {
   "collapsed_sections": [],
   "name": "Seq_Generation.ipynb",
   "provenance": []
  },
  "kernelspec": {
   "display_name": "Python 3",
   "language": "python",
   "name": "python3"
  },
  "language_info": {
   "codemirror_mode": {
    "name": "ipython",
    "version": 3
   },
   "file_extension": ".py",
   "mimetype": "text/x-python",
   "name": "python",
   "nbconvert_exporter": "python",
   "pygments_lexer": "ipython3",
   "version": "3.7.4"
  }
 },
 "nbformat": 4,
 "nbformat_minor": 1
}
