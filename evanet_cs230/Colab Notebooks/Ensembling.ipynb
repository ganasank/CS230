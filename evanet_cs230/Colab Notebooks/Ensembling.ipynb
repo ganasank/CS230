{
  "nbformat": 4,
  "nbformat_minor": 0,
  "metadata": {
    "colab": {
      "name": "Ensembling.ipynb",
      "provenance": [],
      "collapsed_sections": []
    },
    "kernelspec": {
      "name": "python3",
      "display_name": "Python 3"
    },
    "accelerator": "GPU"
  },
  "cells": [
    {
      "cell_type": "code",
      "metadata": {
        "id": "qfBxbXpogIOH",
        "colab_type": "code",
        "outputId": "37a0398c-830c-4403-972c-6a17e847e882",
        "colab": {
          "base_uri": "https://localhost:8080/",
          "height": 51
        }
      },
      "source": [
        "#Moving to working directory\n",
        "%cd /content/drive/Shared\\ drives/CS230 \n",
        "%cd google_action_recognition_trial"
      ],
      "execution_count": 1,
      "outputs": [
        {
          "output_type": "stream",
          "text": [
            "/content/drive/Shared drives/CS230\n",
            "/content/drive/Shared drives/CS230/google_action_recognition_trial\n"
          ],
          "name": "stdout"
        }
      ]
    },
    {
      "cell_type": "code",
      "metadata": {
        "id": "__0rKsXjgQoF",
        "colab_type": "code",
        "outputId": "d11b6bf7-76e2-426a-8a0a-53e29d296aa9",
        "colab": {
          "base_uri": "https://localhost:8080/",
          "height": 80
        }
      },
      "source": [
        "#importing necessary libraries\n",
        "import numpy as np\n",
        "from keras import layers\n",
        "from keras.layers import Input, Dense, Activation, ZeroPadding2D, BatchNormalization, Flatten, Conv2D, Conv3D\n",
        "from keras.layers import AveragePooling2D, MaxPooling2D, Dropout, GlobalMaxPooling2D, GlobalAveragePooling2D, Reshape,AveragePooling3D, Bidirectional, LSTM, TimeDistributed, Lambda, Concatenate\n",
        "from keras.models import Model\n",
        "from keras.utils import layer_utils\n",
        "from keras.utils.data_utils import get_file\n",
        "from keras.utils import plot_model\n",
        "from keras.initializers import VarianceScaling\n",
        "from keras.backend import mean\n",
        "from keras.optimizers import Adam\n",
        "from keras.callbacks import ModelCheckpoint\n",
        "\n",
        "import keras.backend as K\n",
        "import tensorflow as tf\n",
        "import matplotlib.pyplot as plt\n",
        "import h5py\n",
        "import os\n",
        "\n",
        "from scipy.special import softmax\n",
        "from sklearn.metrics import accuracy_score"
      ],
      "execution_count": 2,
      "outputs": [
        {
          "output_type": "stream",
          "text": [
            "Using TensorFlow backend.\n"
          ],
          "name": "stderr"
        },
        {
          "output_type": "display_data",
          "data": {
            "text/html": [
              "<p style=\"color: red;\">\n",
              "The default version of TensorFlow in Colab will soon switch to TensorFlow 2.x.<br>\n",
              "We recommend you <a href=\"https://www.tensorflow.org/guide/migrate\" target=\"_blank\">upgrade</a> now \n",
              "or ensure your notebook will continue to use TensorFlow 1.x via the <code>%tensorflow_version 1.x</code> magic:\n",
              "<a href=\"https://colab.research.google.com/notebooks/tensorflow_version.ipynb\" target=\"_blank\">more info</a>.</p>\n"
            ],
            "text/plain": [
              "<IPython.core.display.HTML object>"
            ]
          },
          "metadata": {
            "tags": []
          }
        }
      ]
    },
    {
      "cell_type": "code",
      "metadata": {
        "id": "tresOts5gR5h",
        "colab_type": "code",
        "colab": {}
      },
      "source": [
        "#function for getting one hot labels\n",
        "def to_one_hot(labels):\n",
        "  output = np.zeros(( np.size(labels),6 ))\n",
        "  label_dict = {'backhand':0,'forehand':1, 'bvolley':2, 'fvolley':3, 'smash':4, 'service':5}\n",
        "  for n in np.arange(np.size(labels)):\n",
        "    label = labels[n]\n",
        "    output[n, label_dict[label]] = 1\n",
        "  return output "
      ],
      "execution_count": 0,
      "outputs": []
    },
    {
      "cell_type": "code",
      "metadata": {
        "id": "Ba0z9XCNgTam",
        "colab_type": "code",
        "colab": {}
      },
      "source": [
        "#Functions for creating dataset - test train and validation from h5 files\n",
        "import csv\n",
        "\n",
        "def create_data(dataset='train',size=20):\n",
        "  data = np.zeros([size,1,7,7,2046])\n",
        "  labels = []\n",
        "  with open('evanet/data/data_file_0.csv', 'r') as csvfile:\n",
        "    full_set = csv.reader(csvfile, delimiter=',')\n",
        "    i = 0\n",
        "    for row in full_set:\n",
        "      if row[0] == dataset and i < size:\n",
        "        features = np.load('evanet/data/0/' + row[2] + '.npy' )\n",
        "        data[i] = np.mean(features,axis=1,keepdims=True).reshape(1,7,7,2046)\n",
        "        labels.append(row[1])\n",
        "        print('Loading ' + row[0] + ' data ' + str(i))\n",
        "        i+= 1\n",
        "\n",
        "  with h5py.File(dataset+'.hdf5', 'w') as f:\n",
        "    write_data = f.create_dataset('X', np.shape(data))\n",
        "    write_data[:] = data \n",
        "\n",
        "def load_labels(dataset='train',size=20):\n",
        "  labels = []\n",
        "  with open('evanet/data/data_file_0.csv', 'r') as csvfile:\n",
        "    full_set = csv.reader(csvfile, delimiter=',')\n",
        "    i = 0\n",
        "    for row in full_set:\n",
        "      if row[0] == dataset and i < size:  \n",
        "        labels.append(row[1])\n",
        "        i+=1\n",
        "  return to_one_hot(labels)\n",
        "\n",
        "def load_data(size_whole,dataset='train'):\n",
        "  with h5py.File(dataset+'.hdf5', 'r') as f:\n",
        "    data = np.array(f['X'])\n",
        "    size = data.shape[0]\n",
        "  labels_one_hot = load_labels(dataset=dataset,size=size)\n",
        "\n",
        "  return data[:size_whole], labels_one_hot[:size_whole]\n",
        "\n",
        "\n",
        "def create_small_dataset(dataset='train',size=20):\n",
        "  data = np.zeros([size,1,7,7,2046])\n",
        "  labels = []\n",
        "  with open('evanet/data/data_file_0.csv', 'r') as csvfile:\n",
        "    full_set = csv.reader(csvfile, delimiter=',')\n",
        "    i = 0\n",
        "    for row in full_set:\n",
        "      if row[0] == dataset and i < size:\n",
        "        features = np.load('evanet/data/0/' + row[2] + '.npy' )\n",
        "        data[i] = np.mean(features,axis=1,keepdims=True).reshape(1,7,7,2046)\n",
        "        labels.append(row[1])\n",
        "        print('Loading ' + row[0] + ' data ' + str(i))\n",
        "        i+= 1\n",
        "  return data, to_one_hot(labels)"
      ],
      "execution_count": 0,
      "outputs": []
    },
    {
      "cell_type": "code",
      "metadata": {
        "id": "mrWjLOF2gUcF",
        "colab_type": "code",
        "colab": {}
      },
      "source": [
        "#Creating the datasets\n",
        "X_train, Y_train = load_data(size_whole=1584,dataset='train')\n",
        "X_val, Y_val = load_data(size_whole=204,dataset='validation')\n",
        "X_test, Y_test = load_data(size_whole=192,dataset='test')"
      ],
      "execution_count": 0,
      "outputs": []
    },
    {
      "cell_type": "code",
      "metadata": {
        "id": "_T4W_baKgXKS",
        "colab_type": "code",
        "outputId": "5af028e0-e538-48da-9cee-33f488435a34",
        "colab": {
          "base_uri": "https://localhost:8080/",
          "height": 1000
        }
      },
      "source": [
        "# Train network\n",
        "dropout_rate=0.3\n",
        "m=0.1\n",
        "def model_instance(input_shape):\n",
        "  X_input = Input(shape = input_shape)\n",
        "  X = Conv3D(128,kernel_size=(1,7,7), padding='valid',kernel_initializer=VarianceScaling(scale=2.0, mode='fan_in', distribution='normal'))(X_input)\n",
        "  #,kernel_initializer=VarianceScaling(scale=2.0, mode='fan_in', distribution='normal')  \n",
        "  X = Reshape((128,))(X)\n",
        "  X = BatchNormalization(momentum=m)(X)\n",
        "  X = Activation(\"relu\")(X)\n",
        "  X = Dropout(rate=dropout_rate)(X)\n",
        "  X = Dense(128)(X)\n",
        "  X = BatchNormalization(momentum=m)(X)\n",
        "  X = Activation(\"relu\")(X)\n",
        "  X = Dropout(rate=dropout_rate)(X)\n",
        "  X = Dense(64)(X)\n",
        "  X = BatchNormalization(momentum=m)(X)\n",
        "  X = Activation(\"relu\")(X)\n",
        "  X = Dropout(rate=dropout_rate)(X)\n",
        "  X = Dense(32)(X)\n",
        "  X = BatchNormalization(momentum=m)(X)\n",
        "  X = Activation(\"relu\")(X)\n",
        "  X = Dropout(rate=dropout_rate)(X)\n",
        "  X = Dense(6)(X)\n",
        "  preds = Activation(\"softmax\")(X)\n",
        "  model = Model(inputs=X_input, outputs=X)\n",
        "  return model \n",
        "model = model_instance(input_shape=(1,7,7,2046))\n",
        "model.summary()"
      ],
      "execution_count": 6,
      "outputs": [
        {
          "output_type": "stream",
          "text": [
            "WARNING:tensorflow:From /usr/local/lib/python3.6/dist-packages/keras/backend/tensorflow_backend.py:66: The name tf.get_default_graph is deprecated. Please use tf.compat.v1.get_default_graph instead.\n",
            "\n",
            "WARNING:tensorflow:From /usr/local/lib/python3.6/dist-packages/keras/backend/tensorflow_backend.py:541: The name tf.placeholder is deprecated. Please use tf.compat.v1.placeholder instead.\n",
            "\n",
            "WARNING:tensorflow:From /usr/local/lib/python3.6/dist-packages/keras/backend/tensorflow_backend.py:4479: The name tf.truncated_normal is deprecated. Please use tf.random.truncated_normal instead.\n",
            "\n",
            "WARNING:tensorflow:From /usr/local/lib/python3.6/dist-packages/keras/backend/tensorflow_backend.py:148: The name tf.placeholder_with_default is deprecated. Please use tf.compat.v1.placeholder_with_default instead.\n",
            "\n",
            "WARNING:tensorflow:From /usr/local/lib/python3.6/dist-packages/keras/backend/tensorflow_backend.py:3733: calling dropout (from tensorflow.python.ops.nn_ops) with keep_prob is deprecated and will be removed in a future version.\n",
            "Instructions for updating:\n",
            "Please use `rate` instead of `keep_prob`. Rate should be set to `rate = 1 - keep_prob`.\n",
            "WARNING:tensorflow:From /usr/local/lib/python3.6/dist-packages/keras/backend/tensorflow_backend.py:4432: The name tf.random_uniform is deprecated. Please use tf.random.uniform instead.\n",
            "\n",
            "Model: \"model_1\"\n",
            "_________________________________________________________________\n",
            "Layer (type)                 Output Shape              Param #   \n",
            "=================================================================\n",
            "input_1 (InputLayer)         (None, 1, 7, 7, 2046)     0         \n",
            "_________________________________________________________________\n",
            "conv3d_1 (Conv3D)            (None, 1, 1, 1, 128)      12832640  \n",
            "_________________________________________________________________\n",
            "reshape_1 (Reshape)          (None, 128)               0         \n",
            "_________________________________________________________________\n",
            "batch_normalization_1 (Batch (None, 128)               512       \n",
            "_________________________________________________________________\n",
            "activation_1 (Activation)    (None, 128)               0         \n",
            "_________________________________________________________________\n",
            "dropout_1 (Dropout)          (None, 128)               0         \n",
            "_________________________________________________________________\n",
            "dense_1 (Dense)              (None, 128)               16512     \n",
            "_________________________________________________________________\n",
            "batch_normalization_2 (Batch (None, 128)               512       \n",
            "_________________________________________________________________\n",
            "activation_2 (Activation)    (None, 128)               0         \n",
            "_________________________________________________________________\n",
            "dropout_2 (Dropout)          (None, 128)               0         \n",
            "_________________________________________________________________\n",
            "dense_2 (Dense)              (None, 64)                8256      \n",
            "_________________________________________________________________\n",
            "batch_normalization_3 (Batch (None, 64)                256       \n",
            "_________________________________________________________________\n",
            "activation_3 (Activation)    (None, 64)                0         \n",
            "_________________________________________________________________\n",
            "dropout_3 (Dropout)          (None, 64)                0         \n",
            "_________________________________________________________________\n",
            "dense_3 (Dense)              (None, 32)                2080      \n",
            "_________________________________________________________________\n",
            "batch_normalization_4 (Batch (None, 32)                128       \n",
            "_________________________________________________________________\n",
            "activation_4 (Activation)    (None, 32)                0         \n",
            "_________________________________________________________________\n",
            "dropout_4 (Dropout)          (None, 32)                0         \n",
            "_________________________________________________________________\n",
            "dense_4 (Dense)              (None, 6)                 198       \n",
            "=================================================================\n",
            "Total params: 12,861,094\n",
            "Trainable params: 12,860,390\n",
            "Non-trainable params: 704\n",
            "_________________________________________________________________\n"
          ],
          "name": "stdout"
        }
      ]
    },
    {
      "cell_type": "code",
      "metadata": {
        "id": "_89dlDd_geaq",
        "colab_type": "code",
        "outputId": "ec80c4f2-f799-4a95-b27e-72bab9cfd659",
        "colab": {
          "base_uri": "https://localhost:8080/",
          "height": 309
        }
      },
      "source": [
        "#loading the weights and compiling the model\n",
        "opt=Adam(lr=0.01)\n",
        "model.load_weights(os.path.join('Checkpoints','weights_model_0_dr03_m1_new.hdf5'))\n",
        "model.compile(optimizer=opt, loss='categorical_crossentropy', metrics=['categorical_accuracy'])"
      ],
      "execution_count": 7,
      "outputs": [
        {
          "output_type": "stream",
          "text": [
            "WARNING:tensorflow:From /usr/local/lib/python3.6/dist-packages/keras/backend/tensorflow_backend.py:190: The name tf.get_default_session is deprecated. Please use tf.compat.v1.get_default_session instead.\n",
            "\n",
            "WARNING:tensorflow:From /usr/local/lib/python3.6/dist-packages/keras/backend/tensorflow_backend.py:197: The name tf.ConfigProto is deprecated. Please use tf.compat.v1.ConfigProto instead.\n",
            "\n",
            "WARNING:tensorflow:From /usr/local/lib/python3.6/dist-packages/keras/backend/tensorflow_backend.py:203: The name tf.Session is deprecated. Please use tf.compat.v1.Session instead.\n",
            "\n",
            "WARNING:tensorflow:From /usr/local/lib/python3.6/dist-packages/keras/backend/tensorflow_backend.py:207: The name tf.global_variables is deprecated. Please use tf.compat.v1.global_variables instead.\n",
            "\n",
            "WARNING:tensorflow:From /usr/local/lib/python3.6/dist-packages/keras/backend/tensorflow_backend.py:216: The name tf.is_variable_initialized is deprecated. Please use tf.compat.v1.is_variable_initialized instead.\n",
            "\n",
            "WARNING:tensorflow:From /usr/local/lib/python3.6/dist-packages/keras/backend/tensorflow_backend.py:223: The name tf.variables_initializer is deprecated. Please use tf.compat.v1.variables_initializer instead.\n",
            "\n",
            "WARNING:tensorflow:From /usr/local/lib/python3.6/dist-packages/keras/optimizers.py:793: The name tf.train.Optimizer is deprecated. Please use tf.compat.v1.train.Optimizer instead.\n",
            "\n",
            "WARNING:tensorflow:From /usr/local/lib/python3.6/dist-packages/keras/backend/tensorflow_backend.py:3576: The name tf.log is deprecated. Please use tf.math.log instead.\n",
            "\n"
          ],
          "name": "stdout"
        }
      ]
    },
    {
      "cell_type": "code",
      "metadata": {
        "id": "cuHospEPghcE",
        "colab_type": "code",
        "colab": {}
      },
      "source": [
        "#Probabilities of prediction\n",
        "Y_probs_1=model.predict(X_test)"
      ],
      "execution_count": 0,
      "outputs": []
    },
    {
      "cell_type": "code",
      "metadata": {
        "id": "Ino9AdtIgifl",
        "colab_type": "code",
        "outputId": "e1666c56-ecaa-4c1c-fcac-42fb21a24bd0",
        "colab": {
          "base_uri": "https://localhost:8080/",
          "height": 34
        }
      },
      "source": [
        "#calculating actual prediction and accuracy\n",
        "Y_pred_1=softmax(Y_probs_1,axis=-1)\n",
        "Y_fortesting=np.argmax(Y_pred_1,axis=-1)\n",
        "accuracy_score(np.argmax(Y_test,axis=1),Y_fortesting)"
      ],
      "execution_count": 9,
      "outputs": [
        {
          "output_type": "execute_result",
          "data": {
            "text/plain": [
              "0.7760416666666666"
            ]
          },
          "metadata": {
            "tags": []
          },
          "execution_count": 9
        }
      ]
    },
    {
      "cell_type": "code",
      "metadata": {
        "id": "R6k4AQTehHWM",
        "colab_type": "code",
        "colab": {}
      },
      "source": [
        "#Functions for generating data from dataset 1\n",
        "def to_one_hot(labels):\n",
        "  output = np.zeros(( np.size(labels),6 ))\n",
        "  label_dict = {'backhand':0,'forehand':1, 'bvolley':2, 'fvolley':3, 'smash':4, 'service':5}\n",
        "  for n in np.arange(np.size(labels)):\n",
        "    label = labels[n]\n",
        "    output[n, label_dict[label]] = 1\n",
        "  return output \n",
        "\n",
        "import csv\n",
        "\n",
        "def create_data(dataset='train',size=198):\n",
        "  data = np.zeros([size,1,7,7,2048])\n",
        "  labels = []\n",
        "  with open('evanet/data/data_file_1.csv', 'r') as csvfile:\n",
        "    full_set = csv.reader(csvfile, delimiter=',')\n",
        "    i = 0\n",
        "    for row in full_set:\n",
        "      if row[0] == dataset and i < size:\n",
        "        features = np.load('evanet/data/1/' + row[2] + '.npy' )\n",
        "        data[i] = np.mean(features,axis=1,keepdims=True).reshape(1,7,7,2048)\n",
        "        labels.append(row[1])\n",
        "        print('Loading ' + row[0] + ' data ' + str(i))\n",
        "        i+= 1\n",
        "\n",
        "  with h5py.File(dataset+'_1.hdf5', 'w') as f:\n",
        "    write_data = f.create_dataset('X', np.shape(data))\n",
        "    write_data[:] = data \n",
        "\n",
        "def load_one_hot_labels(dataset='train',size=198):\n",
        "  labels = []\n",
        "  with open('evanet/data/data_file_0.csv', 'r') as csvfile:\n",
        "    full_set = csv.reader(csvfile, delimiter=',')\n",
        "    i = 0\n",
        "    for row in full_set:\n",
        "      if row[0] == dataset and i < size:  \n",
        "        labels.append(row[1])\n",
        "        i+=1\n",
        "  return to_one_hot(labels)\n",
        "\n",
        "def load_text_labels(dataset='train',size=198):\n",
        "  labels = []\n",
        "  with open('evanet/data/data_file_0.csv', 'r') as csvfile:\n",
        "    full_set = csv.reader(csvfile, delimiter=',')\n",
        "    i = 0\n",
        "    for row in full_set:\n",
        "      if row[0] == dataset and i < size:  \n",
        "        labels.append(row[1])\n",
        "        i+=1\n",
        "  return labels\n",
        "\n",
        "def load_data(dataset='train', size=198):\n",
        "  with h5py.File(dataset+'_1.hdf5', 'r') as f:\n",
        "    data = np.array(f['X'])[0:size]\n",
        "    default_size = data.shape[0]\n",
        "  labels_one_hot = load_one_hot_labels(dataset=dataset,size=size)\n",
        "\n",
        "  return data, labels_one_hot\n",
        "\n",
        "\n",
        "def create_small_dataset(dataset='train',size=20):\n",
        "  data = np.zeros([size,1,7,7,2048])\n",
        "  labels = []\n",
        "  with open('evanet/data/data_file_1.csv', 'r') as csvfile:\n",
        "    full_set = csv.reader(csvfile, delimiter=',')\n",
        "    i = 0\n",
        "    for row in full_set:\n",
        "      if row[0] == dataset and i < size:\n",
        "        features = np.load('evanet/data/1/' + row[2] + '.npy' )\n",
        "        data[i] = np.mean(features,axis=1,keepdims=True).reshape(1,7,7,2048)\n",
        "        labels.append(row[1])\n",
        "        print('Loading ' + row[0] + ' data ' + str(i))\n",
        "        i+= 1\n",
        "  return data, to_one_hot(labels)"
      ],
      "execution_count": 0,
      "outputs": []
    },
    {
      "cell_type": "code",
      "metadata": {
        "id": "bkTVyr_ugrUv",
        "colab_type": "code",
        "colab": {}
      },
      "source": [
        "#dataset 1 sets\n",
        "X_train_1, Y_train_1 = load_data(size=1584,dataset='train')\n",
        "X_val_1, Y_val_1 = load_data(size=204,dataset='validation')\n",
        "X_test_1, Y_test_1 = load_data(size=192,dataset='test')"
      ],
      "execution_count": 0,
      "outputs": []
    },
    {
      "cell_type": "code",
      "metadata": {
        "id": "mUUXF9GLiRI9",
        "colab_type": "code",
        "outputId": "237a2cc4-468a-4835-9b1d-3196cc533b61",
        "colab": {
          "base_uri": "https://localhost:8080/",
          "height": 34
        }
      },
      "source": [
        "Y_test_1.shape"
      ],
      "execution_count": 13,
      "outputs": [
        {
          "output_type": "execute_result",
          "data": {
            "text/plain": [
              "(192, 6)"
            ]
          },
          "metadata": {
            "tags": []
          },
          "execution_count": 13
        }
      ]
    },
    {
      "cell_type": "code",
      "metadata": {
        "id": "DE14bXhchYra",
        "colab_type": "code",
        "colab": {}
      },
      "source": [
        "# Train network\n",
        "dropout_rate=0.3\n",
        "m=0.01\n",
        "def model_instance(input_shape):\n",
        "  X_input = Input(shape = input_shape)\n",
        "  X = Conv3D(128,kernel_size=(1,7,7), padding='valid',kernel_initializer=VarianceScaling(scale=2.0, mode='fan_in', distribution='normal'))(X_input)\n",
        "  X = Reshape((128,))(X)\n",
        "  X = BatchNormalization(momentum=m)(X)\n",
        "  X = Activation(\"relu\")(X)\n",
        "  X = Dropout(rate=dropout_rate)(X)\n",
        "  X = Dense(128)(X)\n",
        "  X = BatchNormalization(momentum=m)(X)\n",
        "  X = Activation(\"relu\")(X)\n",
        "  X = Dropout(rate=dropout_rate)(X)\n",
        "  X = Dense(64)(X)\n",
        "  X = BatchNormalization(momentum=m)(X)\n",
        "  X = Activation(\"relu\")(X)\n",
        "  X = Dropout(rate=dropout_rate)(X)\n",
        "  X = Dense(32)(X)\n",
        "  X = BatchNormalization(momentum=m)(X)\n",
        "  X = Activation(\"relu\")(X)\n",
        "  X = Dropout(rate=dropout_rate)(X)\n",
        "  X = Dense(6)(X)\n",
        "  preds = Activation(\"softmax\")(X)\n",
        "  model = Model(inputs=X_input, outputs=X)\n",
        "  return model "
      ],
      "execution_count": 0,
      "outputs": []
    },
    {
      "cell_type": "code",
      "metadata": {
        "id": "wsAzoBMYhvuv",
        "colab_type": "code",
        "outputId": "7a61506b-8bc4-4bc9-e92c-7ebd8bb01408",
        "colab": {
          "base_uri": "https://localhost:8080/",
          "height": 799
        }
      },
      "source": [
        "model_1 = model_instance(input_shape=(1,7,7,2048))\n",
        "model_1.summary()"
      ],
      "execution_count": 15,
      "outputs": [
        {
          "output_type": "stream",
          "text": [
            "Model: \"model_2\"\n",
            "_________________________________________________________________\n",
            "Layer (type)                 Output Shape              Param #   \n",
            "=================================================================\n",
            "input_2 (InputLayer)         (None, 1, 7, 7, 2048)     0         \n",
            "_________________________________________________________________\n",
            "conv3d_2 (Conv3D)            (None, 1, 1, 1, 128)      12845184  \n",
            "_________________________________________________________________\n",
            "reshape_2 (Reshape)          (None, 128)               0         \n",
            "_________________________________________________________________\n",
            "batch_normalization_5 (Batch (None, 128)               512       \n",
            "_________________________________________________________________\n",
            "activation_6 (Activation)    (None, 128)               0         \n",
            "_________________________________________________________________\n",
            "dropout_5 (Dropout)          (None, 128)               0         \n",
            "_________________________________________________________________\n",
            "dense_5 (Dense)              (None, 128)               16512     \n",
            "_________________________________________________________________\n",
            "batch_normalization_6 (Batch (None, 128)               512       \n",
            "_________________________________________________________________\n",
            "activation_7 (Activation)    (None, 128)               0         \n",
            "_________________________________________________________________\n",
            "dropout_6 (Dropout)          (None, 128)               0         \n",
            "_________________________________________________________________\n",
            "dense_6 (Dense)              (None, 64)                8256      \n",
            "_________________________________________________________________\n",
            "batch_normalization_7 (Batch (None, 64)                256       \n",
            "_________________________________________________________________\n",
            "activation_8 (Activation)    (None, 64)                0         \n",
            "_________________________________________________________________\n",
            "dropout_7 (Dropout)          (None, 64)                0         \n",
            "_________________________________________________________________\n",
            "dense_7 (Dense)              (None, 32)                2080      \n",
            "_________________________________________________________________\n",
            "batch_normalization_8 (Batch (None, 32)                128       \n",
            "_________________________________________________________________\n",
            "activation_9 (Activation)    (None, 32)                0         \n",
            "_________________________________________________________________\n",
            "dropout_8 (Dropout)          (None, 32)                0         \n",
            "_________________________________________________________________\n",
            "dense_8 (Dense)              (None, 6)                 198       \n",
            "=================================================================\n",
            "Total params: 12,873,638\n",
            "Trainable params: 12,872,934\n",
            "Non-trainable params: 704\n",
            "_________________________________________________________________\n"
          ],
          "name": "stdout"
        }
      ]
    },
    {
      "cell_type": "code",
      "metadata": {
        "id": "0lv4Swe7hx_g",
        "colab_type": "code",
        "colab": {
          "base_uri": "https://localhost:8080/",
          "height": 119
        },
        "outputId": "14a81c1b-38af-441a-8566-3cd949322402"
      },
      "source": [
        "#loading weights and calculating accuracy\n",
        "opt=Adam()\n",
        "model_1.load_weights(os.path.join('Checkpoints','weights_dataset1_dr03_m001_newer.hdf5'))\n",
        "model_1.compile(optimizer=opt, loss='categorical_crossentropy', metrics=['categorical_accuracy'])\n",
        "print(model_1.evaluate(X_train_1,Y_train_1))\n",
        "print(model_1.evaluate(X_val_1,Y_val_1))\n",
        "print(model_1.evaluate(X_test_1,Y_test_1))"
      ],
      "execution_count": 17,
      "outputs": [
        {
          "output_type": "stream",
          "text": [
            "1584/1584 [==============================] - 1s 320us/step\n",
            "[16.11809539794922, 1.0]\n",
            "204/204 [==============================] - 0s 266us/step\n",
            "[15.1013438093896, 0.8333333333333334]\n",
            "192/192 [==============================] - 0s 226us/step\n",
            "[14.551452000935873, 0.78125]\n"
          ],
          "name": "stdout"
        }
      ]
    },
    {
      "cell_type": "code",
      "metadata": {
        "id": "UvhikkkFh3KS",
        "colab_type": "code",
        "colab": {}
      },
      "source": [
        "#Getting probs\n",
        "Y_probs_1_1=model_1.predict(X_test_1)"
      ],
      "execution_count": 0,
      "outputs": []
    },
    {
      "cell_type": "code",
      "metadata": {
        "id": "cuz7eCZEjelS",
        "colab_type": "code",
        "colab": {}
      },
      "source": [
        "#Calculating average of two probabilities for ensembling\n",
        "Y_whole=0.5*(Y_probs_1+Y_probs_1_1)"
      ],
      "execution_count": 0,
      "outputs": []
    },
    {
      "cell_type": "code",
      "metadata": {
        "id": "96PjMhqGjlgj",
        "colab_type": "code",
        "outputId": "7cf13dc9-da23-45a4-d76b-f31342b8ac6d",
        "colab": {
          "base_uri": "https://localhost:8080/",
          "height": 34
        }
      },
      "source": [
        "#calculating accuracy of ensembling\n",
        "Y_pred_whole=softmax(Y_whole,axis=-1)\n",
        "Y_fortesting_whole=np.argmax(Y_pred_whole,axis=-1)\n",
        "accuracy_score(np.argmax(Y_test,axis=1),Y_fortesting_whole)"
      ],
      "execution_count": 22,
      "outputs": [
        {
          "output_type": "execute_result",
          "data": {
            "text/plain": [
              "0.8177083333333334"
            ]
          },
          "metadata": {
            "tags": []
          },
          "execution_count": 22
        }
      ]
    },
    {
      "cell_type": "code",
      "metadata": {
        "id": "NR7Jp13Pj2FC",
        "colab_type": "code",
        "outputId": "7e201dc5-a6c1-46df-d7b1-976e6424f536",
        "colab": {
          "base_uri": "https://localhost:8080/",
          "height": 238
        }
      },
      "source": [
        "target_names = ['backhand', 'forehand', 'bvolley', 'fvolley', \n",
        "                   'smash', 'service']\n",
        "from sklearn.metrics import classification_report, confusion_matrix\n",
        "print (classification_report(np.argmax(Y_test,axis=1), Y_fortesting_whole, target_names=target_names))\n",
        "conf_matrix = confusion_matrix(np.argmax(Y_test,axis=1), Y_fortesting_whole)"
      ],
      "execution_count": 23,
      "outputs": [
        {
          "output_type": "stream",
          "text": [
            "              precision    recall  f1-score   support\n",
            "\n",
            "    backhand       0.86      0.92      0.89        48\n",
            "    forehand       0.78      0.90      0.83        48\n",
            "     bvolley       1.00      0.75      0.86        16\n",
            "     fvolley       1.00      0.31      0.48        16\n",
            "       smash       0.71      0.31      0.43        16\n",
            "     service       0.77      1.00      0.87        48\n",
            "\n",
            "    accuracy                           0.82       192\n",
            "   macro avg       0.86      0.70      0.73       192\n",
            "weighted avg       0.83      0.82      0.80       192\n",
            "\n"
          ],
          "name": "stdout"
        }
      ]
    },
    {
      "cell_type": "code",
      "metadata": {
        "id": "Kc9iWAxiMwX-",
        "colab_type": "code",
        "colab": {}
      },
      "source": [
        "#matrix for changing base of shots in confmatrix\n",
        "testing_matrix=np.array([[1,0,0,0,0,0],[0,0,1,0,0,0],[0,1,0,0,0,0],[0,0,0,1,0,0],[0,0,0,0,0,1],[0,0,0,0,1,0]])"
      ],
      "execution_count": 0,
      "outputs": []
    },
    {
      "cell_type": "code",
      "metadata": {
        "id": "Q7hNmafxNbWU",
        "colab_type": "code",
        "colab": {}
      },
      "source": [
        "#changing base in conf matrix\n",
        "conf_matrix_new=np.dot(np.dot(testing_matrix,conf_matrix),testing_matrix.T)"
      ],
      "execution_count": 0,
      "outputs": []
    },
    {
      "cell_type": "code",
      "metadata": {
        "id": "jULyEmIalBDk",
        "colab_type": "code",
        "outputId": "433c58a1-c74a-4795-80fe-4a2762cb51a9",
        "colab": {
          "base_uri": "https://localhost:8080/",
          "height": 442
        }
      },
      "source": [
        "#printing and saving conf matrix\n",
        "import seaborn as sns\n",
        "import pandas as pd\n",
        "sns.set(font_scale=1.7)\n",
        "target_names_modified = ['backhand', 'bvolley', 'forehand', 'fvolley', \n",
        "                   'service', 'smash']\n",
        "df_cm = pd.DataFrame(conf_matrix_new, index = [i for i in target_names_modified],\n",
        "                  columns = [i for i in target_names_modified])\n",
        "plt.figure(figsize = (8,5))\n",
        "ax = sns.heatmap(df_cm, annot=True)\n",
        "ax.set_xlabel('Predicted Class', fontsize=18, labelpad=20)\n",
        "ax.set_ylabel('True Class', fontsize=18, rotation=0, labelpad=55)\n",
        "plt.savefig('confusion_matrix_ensemble_old.jpg', bbox_inches = 'tight')\n",
        "plt.show()"
      ],
      "execution_count": 52,
      "outputs": [
        {
          "output_type": "display_data",
          "data": {
            "image/png": "[encoded data removed]",
            "text/plain": [
              "<Figure size 576x360 with 2 Axes>"
            ]
          },
          "metadata": {
            "tags": []
          }
        }
      ]
    },
    {
      "cell_type": "markdown",
      "metadata": {
        "id": "EhtUSrYx4Arc",
        "colab_type": "text"
      },
      "source": [
        "#New Model for Data 1"
      ]
    },
    {
      "cell_type": "code",
      "metadata": {
        "id": "L1G3Y2uI4CJk",
        "colab_type": "code",
        "outputId": "805550ed-57a7-4629-9f76-0b94dc3367c2",
        "colab": {
          "base_uri": "https://localhost:8080/",
          "height": 425
        }
      },
      "source": [
        "# Train network\n",
        "dropout_rate=0.3\n",
        "m=0.01\n",
        "def model_instance(input_shape):\n",
        "  X_input = Input(shape = input_shape)\n",
        "  X = Conv3D(32,kernel_size=(1,7,7), padding='valid',kernel_initializer=VarianceScaling(scale=2.0, mode='fan_in', distribution='normal'))(X_input)\n",
        "  #,kernel_initializer=VarianceScaling(scale=2.0, mode='fan_in', distribution='normal')  \n",
        "  X = Reshape((32,))(X)\n",
        "  X = BatchNormalization(momentum=m)(X)\n",
        "  X = Activation(\"relu\")(X)\n",
        "  X = Dropout(rate=dropout_rate)(X)\n",
        "  X = Dense(6)(X)\n",
        "  X = BatchNormalization(momentum=m)(X)\n",
        "  \"\"\"\n",
        "  X = Activation(\"relu\")(X)\n",
        "  X = Dropout(rate=dropout_rate)(X)\n",
        "  X = Dense(64)(X)\n",
        "  X = BatchNormalization(momentum=m)(X)\n",
        "  X = Activation(\"relu\")(X)\n",
        "  X = Dropout(rate=dropout_rate)(X)\n",
        "  X = Dense(32)(X)\n",
        "  X = BatchNormalization(momentum=m)(X)\n",
        "  X = Activation(\"relu\")(X)\n",
        "  X = Dropout(rate=dropout_rate)(X)\n",
        "  X = Dense(6)(X)\n",
        "  \"\"\"\n",
        "  preds = Activation(\"softmax\")(X)\n",
        "  model = Model(inputs=X_input, outputs=X)\n",
        "  return model \n",
        "model_1_1 = model_instance(input_shape=(1,7,7,2048))\n",
        "model_1_1.summary()"
      ],
      "execution_count": 53,
      "outputs": [
        {
          "output_type": "stream",
          "text": [
            "Model: \"model_3\"\n",
            "_________________________________________________________________\n",
            "Layer (type)                 Output Shape              Param #   \n",
            "=================================================================\n",
            "input_3 (InputLayer)         (None, 1, 7, 7, 2048)     0         \n",
            "_________________________________________________________________\n",
            "conv3d_3 (Conv3D)            (None, 1, 1, 1, 32)       3211296   \n",
            "_________________________________________________________________\n",
            "reshape_3 (Reshape)          (None, 32)                0         \n",
            "_________________________________________________________________\n",
            "batch_normalization_9 (Batch (None, 32)                128       \n",
            "_________________________________________________________________\n",
            "activation_11 (Activation)   (None, 32)                0         \n",
            "_________________________________________________________________\n",
            "dropout_9 (Dropout)          (None, 32)                0         \n",
            "_________________________________________________________________\n",
            "dense_9 (Dense)              (None, 6)                 198       \n",
            "_________________________________________________________________\n",
            "batch_normalization_10 (Batc (None, 6)                 24        \n",
            "=================================================================\n",
            "Total params: 3,211,646\n",
            "Trainable params: 3,211,570\n",
            "Non-trainable params: 76\n",
            "_________________________________________________________________\n"
          ],
          "name": "stdout"
        }
      ]
    },
    {
      "cell_type": "code",
      "metadata": {
        "id": "LfCGxzng4Hvr",
        "colab_type": "code",
        "colab": {}
      },
      "source": [
        "opt=Adam(lr=0.01)\n",
        "model_1_1.load_weights(os.path.join('Checkpoints','shallow_model_1_final_d03m01.hdf5'))\n",
        "model_1_1.compile(optimizer=opt, loss='categorical_crossentropy', metrics=['categorical_accuracy'])"
      ],
      "execution_count": 0,
      "outputs": []
    },
    {
      "cell_type": "code",
      "metadata": {
        "id": "_klPDzYq4P6f",
        "colab_type": "code",
        "colab": {}
      },
      "source": [
        "Y_probs_1_1_new=model_1_1.predict(X_test_1)"
      ],
      "execution_count": 0,
      "outputs": []
    },
    {
      "cell_type": "code",
      "metadata": {
        "id": "1OabY9gN4VY2",
        "colab_type": "code",
        "colab": {}
      },
      "source": [
        "Y_whole_new=0.5*(Y_probs_1+Y_probs_1_1_new)"
      ],
      "execution_count": 0,
      "outputs": []
    },
    {
      "cell_type": "code",
      "metadata": {
        "id": "hADmp52v4YJj",
        "colab_type": "code",
        "outputId": "fcc7f99f-f279-4618-942b-9f8c3cb510fa",
        "colab": {
          "base_uri": "https://localhost:8080/",
          "height": 34
        }
      },
      "source": [
        "Y_pred_whole_new=softmax(Y_whole_new,axis=-1)\n",
        "Y_fortesting_whole_new=np.argmax(Y_pred_whole_new,axis=-1)\n",
        "accuracy_score(np.argmax(Y_test,axis=1),Y_fortesting_whole_new)"
      ],
      "execution_count": 57,
      "outputs": [
        {
          "output_type": "execute_result",
          "data": {
            "text/plain": [
              "0.84375"
            ]
          },
          "metadata": {
            "tags": []
          },
          "execution_count": 57
        }
      ]
    },
    {
      "cell_type": "code",
      "metadata": {
        "id": "LUACM4kq4bDO",
        "colab_type": "code",
        "outputId": "53c1a3e4-233b-4da8-bed5-4b5a27611d92",
        "colab": {
          "base_uri": "https://localhost:8080/",
          "height": 238
        }
      },
      "source": [
        "target_names = ['backhand', 'forehand', 'bvolley', 'fvolley', \n",
        "                   'smash', 'service']\n",
        "from sklearn.metrics import classification_report, confusion_matrix\n",
        "print (classification_report(np.argmax(Y_test,axis=1), Y_fortesting_whole_new, target_names=target_names))\n",
        "conf_matrix = confusion_matrix(np.argmax(Y_test,axis=1), Y_fortesting_whole_new)"
      ],
      "execution_count": 58,
      "outputs": [
        {
          "output_type": "stream",
          "text": [
            "              precision    recall  f1-score   support\n",
            "\n",
            "    backhand       0.92      0.92      0.92        48\n",
            "    forehand       0.83      0.90      0.86        48\n",
            "     bvolley       0.82      0.88      0.85        16\n",
            "     fvolley       0.82      0.56      0.67        16\n",
            "       smash       0.67      0.50      0.57        16\n",
            "     service       0.85      0.92      0.88        48\n",
            "\n",
            "    accuracy                           0.84       192\n",
            "   macro avg       0.82      0.78      0.79       192\n",
            "weighted avg       0.84      0.84      0.84       192\n",
            "\n"
          ],
          "name": "stdout"
        }
      ]
    },
    {
      "cell_type": "code",
      "metadata": {
        "id": "c_pJTeHn4fJY",
        "colab_type": "code",
        "outputId": "651a31e6-6cb6-4df8-9b66-73ac584b6ded",
        "colab": {
          "base_uri": "https://localhost:8080/",
          "height": 442
        }
      },
      "source": [
        "conf_matrix_new=np.dot(np.dot(testing_matrix,conf_matrix),testing_matrix.T)\n",
        "import seaborn as sns\n",
        "import pandas as pd\n",
        "sns.set(font_scale=1.7)\n",
        "df_cm = pd.DataFrame(conf_matrix_new, index = [i for i in target_names_modified],\n",
        "                  columns = [i for i in target_names_modified])\n",
        "plt.figure(figsize = (8,5))\n",
        "ax = sns.heatmap(df_cm, annot=True, vmin=0, vmax=46)\n",
        "ax.set_xlabel('Predicted Class', fontsize=18, labelpad=20)\n",
        "ax.set_ylabel('True Class', fontsize=18, rotation=0, labelpad=55)\n",
        "plt.savefig('confusion_matrix_ensemble_new.png', bbox_inches = 'tight')\n",
        "plt.show()"
      ],
      "execution_count": 63,
      "outputs": [
        {
          "output_type": "display_data",
          "data": {
            "image/png": "[encoded data removed]",
            "text/plain": [
              "<Figure size 576x360 with 2 Axes>"
            ]
          },
          "metadata": {
            "tags": []
          }
        }
      ]
    },
    {
      "cell_type": "code",
      "metadata": {
        "id": "LM-2R7FF4_sp",
        "colab_type": "code",
        "colab": {}
      },
      "source": [
        ""
      ],
      "execution_count": 0,
      "outputs": []
    }
  ]
}